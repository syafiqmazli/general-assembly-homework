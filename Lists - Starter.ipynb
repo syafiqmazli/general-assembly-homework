{
 "cells": [
  {
   "cell_type": "markdown",
   "id": "cb882543",
   "metadata": {},
   "source": [
    "## You Do: Lists\n",
    "\n",
    "##### 1. Save a list with the numbers 2, 4, 6, and 8 into a variable called numbers.\n",
    "##### 2. Print the max of numbers.\n",
    "##### 3. Pop the last element in numbers off; re-insert it at index 2.\n",
    "##### 4. Pop the second number in numbers off.\n",
    "##### 5. Append 3 to numbers.\n",
    "##### 6. Print out the average number (divide the sum of numbers by the length).\n",
    "##### 7. Print numbers."
   ]
  },
  {
   "cell_type": "code",
   "execution_count": 63,
   "id": "f8a8240d",
   "metadata": {},
   "outputs": [],
   "source": [
    "# 1. Save a list with the numbers 2, 4, 6, and 8 into a variable called numbers.\n",
    "numbers = [2, 4, 6, 8]"
   ]
  },
  {
   "cell_type": "code",
   "execution_count": 3,
   "id": "9129a27b",
   "metadata": {},
   "outputs": [
    {
     "name": "stdout",
     "output_type": "stream",
     "text": [
      "max of numbers is 8\n"
     ]
    }
   ],
   "source": [
    "# 2. Print the max of numbers.\n",
    "print(\"max of numbers is\", max(numbers))"
   ]
  },
  {
   "cell_type": "code",
   "execution_count": 54,
   "id": "8bf1cbc1",
   "metadata": {},
   "outputs": [
    {
     "name": "stdout",
     "output_type": "stream",
     "text": [
      "List of number is [2, 8, 4, 6]\n"
     ]
    }
   ],
   "source": [
    "# 3. Pop the last element in numbers; re-insert it at index 2.\n",
    "list_num = numbers;\n",
    "numbers.pop();\n",
    "numbers.insert(1, 8) ;\n",
    "print (\"List of number is\", list_num)\n"
   ]
  },
  {
   "cell_type": "code",
   "execution_count": 57,
   "id": "792cfc90",
   "metadata": {},
   "outputs": [
    {
     "name": "stdout",
     "output_type": "stream",
     "text": [
      "List of number is [2, 8, 6]\n"
     ]
    }
   ],
   "source": [
    "# 4. Pop the second number in numbers off.\n",
    "\n",
    "list_num = numbers;\n",
    "numbers.pop();\n",
    "numbers.insert(2, 8) ;\n",
    "numbers.pop(1);\n",
    "print (\"List of number is\", list_num)"
   ]
  },
  {
   "cell_type": "code",
   "execution_count": 60,
   "id": "52e952d3",
   "metadata": {},
   "outputs": [
    {
     "name": "stdout",
     "output_type": "stream",
     "text": [
      "List of number is [2, 8, 6, 3]\n"
     ]
    }
   ],
   "source": [
    "# 5. Append 3 to numbers.\n",
    "list_num = numbers;\n",
    "numbers.pop();\n",
    "numbers.insert(2, 8) ;\n",
    "numbers.pop(1);\n",
    "numbers.append(3)\n",
    "print (\"List of number is\", list_num)"
   ]
  },
  {
   "cell_type": "code",
   "execution_count": 62,
   "id": "6feda0da",
   "metadata": {},
   "outputs": [
    {
     "name": "stdout",
     "output_type": "stream",
     "text": [
      "List of number is [2, 8, 6, 3]\n",
      "The average number is 4.75\n"
     ]
    }
   ],
   "source": [
    "# Print out the average number (divide the sum of numbers by the length).\n",
    "list_num = numbers;\n",
    "numbers.pop();\n",
    "numbers.insert(2, 8) ;\n",
    "numbers.pop(1);\n",
    "numbers.append(3)\n",
    "print (\"List of number is\", list_num)\n",
    "sum_avgs = sum(list_num) / len(list_num);\n",
    "print(\"The average number is\", sum_avgs)\n"
   ]
  },
  {
   "cell_type": "code",
   "execution_count": 64,
   "id": "afbf2e4e",
   "metadata": {},
   "outputs": [
    {
     "name": "stdout",
     "output_type": "stream",
     "text": [
      "List of number is [2, 8, 6, 3]\n"
     ]
    }
   ],
   "source": [
    "# 7. Print numbers.\n",
    "list_num = numbers;\n",
    "numbers.pop();\n",
    "numbers.insert(2, 8) ;\n",
    "numbers.pop(1);\n",
    "numbers.append(3)\n",
    "print (\"List of number is\", list_num)"
   ]
  }
 ],
 "metadata": {
  "kernelspec": {
   "display_name": "Python 3.6.9 ('.venv': venv)",
   "language": "python",
   "name": "python3"
  },
  "language_info": {
   "codemirror_mode": {
    "name": "ipython",
    "version": 3
   },
   "file_extension": ".py",
   "mimetype": "text/x-python",
   "name": "python",
   "nbconvert_exporter": "python",
   "pygments_lexer": "ipython3",
   "version": "3.6.9"
  },
  "vscode": {
   "interpreter": {
    "hash": "582ec74c0ce85bcbdc560e49008601d3d7da3f1485dc7f5323d4d85124bc3f80"
   }
  }
 },
 "nbformat": 4,
 "nbformat_minor": 5
}
