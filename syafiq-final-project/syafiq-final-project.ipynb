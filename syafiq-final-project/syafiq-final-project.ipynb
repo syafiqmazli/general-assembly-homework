{
 "cells": [
  {
   "cell_type": "markdown",
   "metadata": {},
   "source": [
    "# Self Introduction 🙇‍♂️"
   ]
  },
  {
   "cell_type": "markdown",
   "metadata": {},
   "source": [
    "Let me introduce myself "
   ]
  },
  {
   "cell_type": "code",
   "execution_count": 1,
   "metadata": {
    "scrolled": true
   },
   "outputs": [
    {
     "name": "stdout",
     "output_type": "stream",
     "text": [
      "Requirement already satisfied: emoji in c:\\programdata\\anaconda3\\lib\\site-packages (2.2.0)\n"
     ]
    }
   ],
   "source": [
    "# Install emoji module\n",
    "!pip install emoji"
   ]
  },
  {
   "cell_type": "code",
   "execution_count": 2,
   "metadata": {},
   "outputs": [],
   "source": [
    "# Import emoji module\n",
    "import emoji"
   ]
  },
  {
   "cell_type": "code",
   "execution_count": 3,
   "metadata": {},
   "outputs": [
    {
     "name": "stdout",
     "output_type": "stream",
     "text": [
      "Hello World 🐍\n"
     ]
    }
   ],
   "source": [
    "# Print Hello World\n",
    "print(emoji.emojize('Hello World :snake:'))"
   ]
  },
  {
   "cell_type": "code",
   "execution_count": 4,
   "metadata": {},
   "outputs": [
    {
     "name": "stdout",
     "output_type": "stream",
     "text": [
      "My name is Syafiq. \n",
      "I living in Kuala Lumpur 🇲🇾. \n",
      "My daily job is the tech guy 👨‍💻 working in the behind scene to make sure the resources capacity is working. \n",
      "In my free time, i love to do fishing 🎣 and cycling 🚴 around the park.\n"
     ]
    }
   ],
   "source": [
    "# Self-introduction\n",
    "name = \"Syafiq\"\n",
    "city = \"Kuala Lumpur\"\n",
    "working_field = \"tech\"\n",
    "character_1 = \"left handed\"\n",
    "hobby_1 = \"fishing\"\n",
    "hobby_2 = \"cycling\"\n",
    "print(f\"My name is {name}. \\nI living in {city} 🇲🇾. \\nMy daily job is the {working_field} guy 👨‍💻 working in the behind scene to make sure the resources capacity is working. \\nIn my free time, i love to do {hobby_1} 🎣 and {hobby_2} 🚴 around the park.\")"
   ]
  },
  {
   "cell_type": "markdown",
   "metadata": {},
   "source": [
    "# Objectives 🎯"
   ]
  },
  {
   "cell_type": "markdown",
   "metadata": {},
   "source": [
    "* Analyse choosen dataset \n",
    "* Cleaning the dataset\n",
    "* Visualize the dataset based on specifics question"
   ]
  },
  {
   "cell_type": "markdown",
   "metadata": {},
   "source": [
    "# Dataset 🎞️"
   ]
  },
  {
   "cell_type": "markdown",
   "metadata": {},
   "source": [
    "This below the dataset choosen from kaggle.com is about netflix movies and tv-shows, read more this link before execute this below command ; https://www.kaggle.com/docs/api\n",
    "\n",
    "`kaggle datasets download shivamb/netflix-shows`"
   ]
  },
  {
   "cell_type": "markdown",
   "metadata": {},
   "source": [
    "# Preparation 🛠️"
   ]
  },
  {
   "cell_type": "markdown",
   "metadata": {},
   "source": [
    "Before starting this EOD, will import first pandas, numpy and sidetable"
   ]
  },
  {
   "cell_type": "code",
   "execution_count": 5,
   "metadata": {},
   "outputs": [],
   "source": [
    "# Import Pandas, Numpy and Sidetable as proper tool to analyse data\n",
    "import pandas as pd\n",
    "import numpy as np # for linear and algebra\n",
    "import matplotlib.pyplot as plt # for plotting\n",
    "\n",
    "\n"
   ]
  },
  {
   "cell_type": "markdown",
   "metadata": {},
   "source": [
    "Next, importing downloaded file from kaggle."
   ]
  },
  {
   "cell_type": "code",
   "execution_count": 6,
   "metadata": {},
   "outputs": [],
   "source": [
    "# Read the dataset as DataFrame into a variable named 'netflix'\n",
    "netflix = pd.read_csv('netflix-shows.zip')"
   ]
  },
  {
   "cell_type": "markdown",
   "metadata": {},
   "source": [
    "Checking type of the dataset we have."
   ]
  },
  {
   "cell_type": "code",
   "execution_count": 7,
   "metadata": {},
   "outputs": [
    {
     "data": {
      "text/plain": [
       "pandas.core.frame.DataFrame"
      ]
     },
     "execution_count": 7,
     "metadata": {},
     "output_type": "execute_result"
    }
   ],
   "source": [
    "# Inspect type of dataset\n",
    "type(netflix)"
   ]
  },
  {
   "cell_type": "markdown",
   "metadata": {},
   "source": [
    "Lets try show top five information from dataset."
   ]
  },
  {
   "cell_type": "code",
   "execution_count": 8,
   "metadata": {},
   "outputs": [
    {
     "data": {
      "text/html": [
       "<div>\n",
       "<style scoped>\n",
       "    .dataframe tbody tr th:only-of-type {\n",
       "        vertical-align: middle;\n",
       "    }\n",
       "\n",
       "    .dataframe tbody tr th {\n",
       "        vertical-align: top;\n",
       "    }\n",
       "\n",
       "    .dataframe thead th {\n",
       "        text-align: right;\n",
       "    }\n",
       "</style>\n",
       "<table border=\"1\" class=\"dataframe\">\n",
       "  <thead>\n",
       "    <tr style=\"text-align: right;\">\n",
       "      <th></th>\n",
       "      <th>show_id</th>\n",
       "      <th>type</th>\n",
       "      <th>title</th>\n",
       "      <th>director</th>\n",
       "      <th>cast</th>\n",
       "      <th>country</th>\n",
       "      <th>date_added</th>\n",
       "      <th>release_year</th>\n",
       "      <th>rating</th>\n",
       "      <th>duration</th>\n",
       "      <th>listed_in</th>\n",
       "      <th>description</th>\n",
       "    </tr>\n",
       "  </thead>\n",
       "  <tbody>\n",
       "    <tr>\n",
       "      <th>0</th>\n",
       "      <td>s1</td>\n",
       "      <td>Movie</td>\n",
       "      <td>Dick Johnson Is Dead</td>\n",
       "      <td>Kirsten Johnson</td>\n",
       "      <td>NaN</td>\n",
       "      <td>United States</td>\n",
       "      <td>September 25, 2021</td>\n",
       "      <td>2020</td>\n",
       "      <td>PG-13</td>\n",
       "      <td>90 min</td>\n",
       "      <td>Documentaries</td>\n",
       "      <td>As her father nears the end of his life, filmm...</td>\n",
       "    </tr>\n",
       "    <tr>\n",
       "      <th>1</th>\n",
       "      <td>s2</td>\n",
       "      <td>TV Show</td>\n",
       "      <td>Blood &amp; Water</td>\n",
       "      <td>NaN</td>\n",
       "      <td>Ama Qamata, Khosi Ngema, Gail Mabalane, Thaban...</td>\n",
       "      <td>South Africa</td>\n",
       "      <td>September 24, 2021</td>\n",
       "      <td>2021</td>\n",
       "      <td>TV-MA</td>\n",
       "      <td>2 Seasons</td>\n",
       "      <td>International TV Shows, TV Dramas, TV Mysteries</td>\n",
       "      <td>After crossing paths at a party, a Cape Town t...</td>\n",
       "    </tr>\n",
       "    <tr>\n",
       "      <th>2</th>\n",
       "      <td>s3</td>\n",
       "      <td>TV Show</td>\n",
       "      <td>Ganglands</td>\n",
       "      <td>Julien Leclercq</td>\n",
       "      <td>Sami Bouajila, Tracy Gotoas, Samuel Jouy, Nabi...</td>\n",
       "      <td>NaN</td>\n",
       "      <td>September 24, 2021</td>\n",
       "      <td>2021</td>\n",
       "      <td>TV-MA</td>\n",
       "      <td>1 Season</td>\n",
       "      <td>Crime TV Shows, International TV Shows, TV Act...</td>\n",
       "      <td>To protect his family from a powerful drug lor...</td>\n",
       "    </tr>\n",
       "    <tr>\n",
       "      <th>3</th>\n",
       "      <td>s4</td>\n",
       "      <td>TV Show</td>\n",
       "      <td>Jailbirds New Orleans</td>\n",
       "      <td>NaN</td>\n",
       "      <td>NaN</td>\n",
       "      <td>NaN</td>\n",
       "      <td>September 24, 2021</td>\n",
       "      <td>2021</td>\n",
       "      <td>TV-MA</td>\n",
       "      <td>1 Season</td>\n",
       "      <td>Docuseries, Reality TV</td>\n",
       "      <td>Feuds, flirtations and toilet talk go down amo...</td>\n",
       "    </tr>\n",
       "    <tr>\n",
       "      <th>4</th>\n",
       "      <td>s5</td>\n",
       "      <td>TV Show</td>\n",
       "      <td>Kota Factory</td>\n",
       "      <td>NaN</td>\n",
       "      <td>Mayur More, Jitendra Kumar, Ranjan Raj, Alam K...</td>\n",
       "      <td>India</td>\n",
       "      <td>September 24, 2021</td>\n",
       "      <td>2021</td>\n",
       "      <td>TV-MA</td>\n",
       "      <td>2 Seasons</td>\n",
       "      <td>International TV Shows, Romantic TV Shows, TV ...</td>\n",
       "      <td>In a city of coaching centers known to train I...</td>\n",
       "    </tr>\n",
       "  </tbody>\n",
       "</table>\n",
       "</div>"
      ],
      "text/plain": [
       "  show_id     type                  title         director  \\\n",
       "0      s1    Movie   Dick Johnson Is Dead  Kirsten Johnson   \n",
       "1      s2  TV Show          Blood & Water              NaN   \n",
       "2      s3  TV Show              Ganglands  Julien Leclercq   \n",
       "3      s4  TV Show  Jailbirds New Orleans              NaN   \n",
       "4      s5  TV Show           Kota Factory              NaN   \n",
       "\n",
       "                                                cast        country  \\\n",
       "0                                                NaN  United States   \n",
       "1  Ama Qamata, Khosi Ngema, Gail Mabalane, Thaban...   South Africa   \n",
       "2  Sami Bouajila, Tracy Gotoas, Samuel Jouy, Nabi...            NaN   \n",
       "3                                                NaN            NaN   \n",
       "4  Mayur More, Jitendra Kumar, Ranjan Raj, Alam K...          India   \n",
       "\n",
       "           date_added  release_year rating   duration  \\\n",
       "0  September 25, 2021          2020  PG-13     90 min   \n",
       "1  September 24, 2021          2021  TV-MA  2 Seasons   \n",
       "2  September 24, 2021          2021  TV-MA   1 Season   \n",
       "3  September 24, 2021          2021  TV-MA   1 Season   \n",
       "4  September 24, 2021          2021  TV-MA  2 Seasons   \n",
       "\n",
       "                                           listed_in  \\\n",
       "0                                      Documentaries   \n",
       "1    International TV Shows, TV Dramas, TV Mysteries   \n",
       "2  Crime TV Shows, International TV Shows, TV Act...   \n",
       "3                             Docuseries, Reality TV   \n",
       "4  International TV Shows, Romantic TV Shows, TV ...   \n",
       "\n",
       "                                         description  \n",
       "0  As her father nears the end of his life, filmm...  \n",
       "1  After crossing paths at a party, a Cape Town t...  \n",
       "2  To protect his family from a powerful drug lor...  \n",
       "3  Feuds, flirtations and toilet talk go down amo...  \n",
       "4  In a city of coaching centers known to train I...  "
      ]
     },
     "execution_count": 8,
     "metadata": {},
     "output_type": "execute_result"
    }
   ],
   "source": [
    "# Show the head of 'netflix' dataset\n",
    "netflix.head(5)"
   ]
  },
  {
   "cell_type": "markdown",
   "metadata": {},
   "source": [
    "Now to identify if the dataset true isn't missing from dataset."
   ]
  },
  {
   "cell_type": "code",
   "execution_count": 9,
   "metadata": {},
   "outputs": [
    {
     "data": {
      "text/html": [
       "<div>\n",
       "<style scoped>\n",
       "    .dataframe tbody tr th:only-of-type {\n",
       "        vertical-align: middle;\n",
       "    }\n",
       "\n",
       "    .dataframe tbody tr th {\n",
       "        vertical-align: top;\n",
       "    }\n",
       "\n",
       "    .dataframe thead th {\n",
       "        text-align: right;\n",
       "    }\n",
       "</style>\n",
       "<table border=\"1\" class=\"dataframe\">\n",
       "  <thead>\n",
       "    <tr style=\"text-align: right;\">\n",
       "      <th></th>\n",
       "      <th>show_id</th>\n",
       "      <th>type</th>\n",
       "      <th>title</th>\n",
       "      <th>director</th>\n",
       "      <th>cast</th>\n",
       "      <th>country</th>\n",
       "      <th>date_added</th>\n",
       "      <th>release_year</th>\n",
       "      <th>rating</th>\n",
       "      <th>duration</th>\n",
       "      <th>listed_in</th>\n",
       "      <th>description</th>\n",
       "    </tr>\n",
       "  </thead>\n",
       "  <tbody>\n",
       "    <tr>\n",
       "      <th>0</th>\n",
       "      <td>True</td>\n",
       "      <td>True</td>\n",
       "      <td>True</td>\n",
       "      <td>True</td>\n",
       "      <td>False</td>\n",
       "      <td>True</td>\n",
       "      <td>True</td>\n",
       "      <td>True</td>\n",
       "      <td>True</td>\n",
       "      <td>True</td>\n",
       "      <td>True</td>\n",
       "      <td>True</td>\n",
       "    </tr>\n",
       "    <tr>\n",
       "      <th>1</th>\n",
       "      <td>True</td>\n",
       "      <td>True</td>\n",
       "      <td>True</td>\n",
       "      <td>False</td>\n",
       "      <td>True</td>\n",
       "      <td>True</td>\n",
       "      <td>True</td>\n",
       "      <td>True</td>\n",
       "      <td>True</td>\n",
       "      <td>True</td>\n",
       "      <td>True</td>\n",
       "      <td>True</td>\n",
       "    </tr>\n",
       "    <tr>\n",
       "      <th>2</th>\n",
       "      <td>True</td>\n",
       "      <td>True</td>\n",
       "      <td>True</td>\n",
       "      <td>True</td>\n",
       "      <td>True</td>\n",
       "      <td>False</td>\n",
       "      <td>True</td>\n",
       "      <td>True</td>\n",
       "      <td>True</td>\n",
       "      <td>True</td>\n",
       "      <td>True</td>\n",
       "      <td>True</td>\n",
       "    </tr>\n",
       "    <tr>\n",
       "      <th>3</th>\n",
       "      <td>True</td>\n",
       "      <td>True</td>\n",
       "      <td>True</td>\n",
       "      <td>False</td>\n",
       "      <td>False</td>\n",
       "      <td>False</td>\n",
       "      <td>True</td>\n",
       "      <td>True</td>\n",
       "      <td>True</td>\n",
       "      <td>True</td>\n",
       "      <td>True</td>\n",
       "      <td>True</td>\n",
       "    </tr>\n",
       "    <tr>\n",
       "      <th>4</th>\n",
       "      <td>True</td>\n",
       "      <td>True</td>\n",
       "      <td>True</td>\n",
       "      <td>False</td>\n",
       "      <td>True</td>\n",
       "      <td>True</td>\n",
       "      <td>True</td>\n",
       "      <td>True</td>\n",
       "      <td>True</td>\n",
       "      <td>True</td>\n",
       "      <td>True</td>\n",
       "      <td>True</td>\n",
       "    </tr>\n",
       "  </tbody>\n",
       "</table>\n",
       "</div>"
      ],
      "text/plain": [
       "   show_id  type  title  director   cast  country  date_added  release_year  \\\n",
       "0     True  True   True      True  False     True        True          True   \n",
       "1     True  True   True     False   True     True        True          True   \n",
       "2     True  True   True      True   True    False        True          True   \n",
       "3     True  True   True     False  False    False        True          True   \n",
       "4     True  True   True     False   True     True        True          True   \n",
       "\n",
       "   rating  duration  listed_in  description  \n",
       "0    True      True       True         True  \n",
       "1    True      True       True         True  \n",
       "2    True      True       True         True  \n",
       "3    True      True       True         True  \n",
       "4    True      True       True         True  "
      ]
     },
     "execution_count": 9,
     "metadata": {},
     "output_type": "execute_result"
    }
   ],
   "source": [
    "# Identify true isn't missing information from dataset\n",
    "netflix.notnull().head(5)"
   ]
  },
  {
   "cell_type": "markdown",
   "metadata": {},
   "source": [
    "Now to identify if the dataset truly missing from dataset."
   ]
  },
  {
   "cell_type": "code",
   "execution_count": 10,
   "metadata": {},
   "outputs": [
    {
     "data": {
      "text/html": [
       "<div>\n",
       "<style scoped>\n",
       "    .dataframe tbody tr th:only-of-type {\n",
       "        vertical-align: middle;\n",
       "    }\n",
       "\n",
       "    .dataframe tbody tr th {\n",
       "        vertical-align: top;\n",
       "    }\n",
       "\n",
       "    .dataframe thead th {\n",
       "        text-align: right;\n",
       "    }\n",
       "</style>\n",
       "<table border=\"1\" class=\"dataframe\">\n",
       "  <thead>\n",
       "    <tr style=\"text-align: right;\">\n",
       "      <th></th>\n",
       "      <th>show_id</th>\n",
       "      <th>type</th>\n",
       "      <th>title</th>\n",
       "      <th>director</th>\n",
       "      <th>cast</th>\n",
       "      <th>country</th>\n",
       "      <th>date_added</th>\n",
       "      <th>release_year</th>\n",
       "      <th>rating</th>\n",
       "      <th>duration</th>\n",
       "      <th>listed_in</th>\n",
       "      <th>description</th>\n",
       "    </tr>\n",
       "  </thead>\n",
       "  <tbody>\n",
       "    <tr>\n",
       "      <th>0</th>\n",
       "      <td>False</td>\n",
       "      <td>False</td>\n",
       "      <td>False</td>\n",
       "      <td>False</td>\n",
       "      <td>True</td>\n",
       "      <td>False</td>\n",
       "      <td>False</td>\n",
       "      <td>False</td>\n",
       "      <td>False</td>\n",
       "      <td>False</td>\n",
       "      <td>False</td>\n",
       "      <td>False</td>\n",
       "    </tr>\n",
       "    <tr>\n",
       "      <th>1</th>\n",
       "      <td>False</td>\n",
       "      <td>False</td>\n",
       "      <td>False</td>\n",
       "      <td>True</td>\n",
       "      <td>False</td>\n",
       "      <td>False</td>\n",
       "      <td>False</td>\n",
       "      <td>False</td>\n",
       "      <td>False</td>\n",
       "      <td>False</td>\n",
       "      <td>False</td>\n",
       "      <td>False</td>\n",
       "    </tr>\n",
       "    <tr>\n",
       "      <th>2</th>\n",
       "      <td>False</td>\n",
       "      <td>False</td>\n",
       "      <td>False</td>\n",
       "      <td>False</td>\n",
       "      <td>False</td>\n",
       "      <td>True</td>\n",
       "      <td>False</td>\n",
       "      <td>False</td>\n",
       "      <td>False</td>\n",
       "      <td>False</td>\n",
       "      <td>False</td>\n",
       "      <td>False</td>\n",
       "    </tr>\n",
       "    <tr>\n",
       "      <th>3</th>\n",
       "      <td>False</td>\n",
       "      <td>False</td>\n",
       "      <td>False</td>\n",
       "      <td>True</td>\n",
       "      <td>True</td>\n",
       "      <td>True</td>\n",
       "      <td>False</td>\n",
       "      <td>False</td>\n",
       "      <td>False</td>\n",
       "      <td>False</td>\n",
       "      <td>False</td>\n",
       "      <td>False</td>\n",
       "    </tr>\n",
       "    <tr>\n",
       "      <th>4</th>\n",
       "      <td>False</td>\n",
       "      <td>False</td>\n",
       "      <td>False</td>\n",
       "      <td>True</td>\n",
       "      <td>False</td>\n",
       "      <td>False</td>\n",
       "      <td>False</td>\n",
       "      <td>False</td>\n",
       "      <td>False</td>\n",
       "      <td>False</td>\n",
       "      <td>False</td>\n",
       "      <td>False</td>\n",
       "    </tr>\n",
       "  </tbody>\n",
       "</table>\n",
       "</div>"
      ],
      "text/plain": [
       "   show_id   type  title  director   cast  country  date_added  release_year  \\\n",
       "0    False  False  False     False   True    False       False         False   \n",
       "1    False  False  False      True  False    False       False         False   \n",
       "2    False  False  False     False  False     True       False         False   \n",
       "3    False  False  False      True   True     True       False         False   \n",
       "4    False  False  False      True  False    False       False         False   \n",
       "\n",
       "   rating  duration  listed_in  description  \n",
       "0   False     False      False        False  \n",
       "1   False     False      False        False  \n",
       "2   False     False      False        False  \n",
       "3   False     False      False        False  \n",
       "4   False     False      False        False  "
      ]
     },
     "execution_count": 10,
     "metadata": {},
     "output_type": "execute_result"
    }
   ],
   "source": [
    "# Identify true missing information from dataset\n",
    "netflix.isnull().head(5)"
   ]
  },
  {
   "cell_type": "markdown",
   "metadata": {},
   "source": [
    "Let's understand the dataset shape row and columns."
   ]
  },
  {
   "cell_type": "code",
   "execution_count": 11,
   "metadata": {},
   "outputs": [
    {
     "data": {
      "text/plain": [
       "(8807, 12)"
      ]
     },
     "execution_count": 11,
     "metadata": {},
     "output_type": "execute_result"
    }
   ],
   "source": [
    "# Identify dataset shape\n",
    "netflix.shape"
   ]
  },
  {
   "cell_type": "markdown",
   "metadata": {},
   "source": [
    "# Cleaning Time ☢️"
   ]
  },
  {
   "cell_type": "markdown",
   "metadata": {},
   "source": [
    "We can do summary of the missing information from dataset below."
   ]
  },
  {
   "cell_type": "code",
   "execution_count": 12,
   "metadata": {},
   "outputs": [
    {
     "data": {
      "text/plain": [
       "show_id            0\n",
       "type               0\n",
       "title              0\n",
       "director        2634\n",
       "cast             825\n",
       "country          831\n",
       "date_added        10\n",
       "release_year       0\n",
       "rating             4\n",
       "duration           3\n",
       "listed_in          0\n",
       "description        0\n",
       "dtype: int64"
      ]
     },
     "execution_count": 12,
     "metadata": {},
     "output_type": "execute_result"
    }
   ],
   "source": [
    "# Summary missing information from dataset\n",
    "netflix.isnull().sum()"
   ]
  },
  {
   "cell_type": "markdown",
   "metadata": {},
   "source": [
    "Or more nicer with pro-tips! ✔️"
   ]
  },
  {
   "cell_type": "code",
   "execution_count": 13,
   "metadata": {},
   "outputs": [
    {
     "name": "stdout",
     "output_type": "stream",
     "text": [
      "              Count of Nulls  Percentage\n",
      "Column                                  \n",
      "director                2634   29.908028\n",
      "country                  831    9.435676\n",
      "cast                     825    9.367549\n",
      "date_added                10    0.113546\n",
      "rating                     4    0.045418\n",
      "duration                   3    0.034064\n",
      "show_id                    0    0.000000\n",
      "type                       0    0.000000\n",
      "title                      0    0.000000\n",
      "release_year               0    0.000000\n",
      "listed_in                  0    0.000000\n",
      "description                0    0.000000\n"
     ]
    }
   ],
   "source": [
    "# Summary of (pro-tips from Deeban) missing information from dataset\n",
    "nacheck_netflix = pd.DataFrame(netflix.isnull().sum(), columns=['Count of Nulls'])                                                             \n",
    "nacheck_netflix.index.name = 'Column'\n",
    "nacheck_netflix.sort_values(['Count of Nulls'],ascending=False, inplace=True)\n",
    "nacheck_netflix['Percentage']=(nacheck_netflix['Count of Nulls']/len(netflix))*100\n",
    "print(nacheck_netflix)"
   ]
  },
  {
   "cell_type": "code",
   "execution_count": 14,
   "metadata": {},
   "outputs": [],
   "source": [
    "# Clean missing information on column \"director\", \"cast\", \"country\"\n",
    "netflix.dropna(subset=['director','country','cast'], inplace=True)\n"
   ]
  },
  {
   "cell_type": "code",
   "execution_count": 15,
   "metadata": {},
   "outputs": [
    {
     "name": "stdout",
     "output_type": "stream",
     "text": [
      "              Count of Nulls  Percentage\n",
      "Column                                  \n",
      "duration                   3    0.056222\n",
      "rating                     1    0.018741\n",
      "show_id                    0    0.000000\n",
      "type                       0    0.000000\n",
      "title                      0    0.000000\n",
      "director                   0    0.000000\n",
      "cast                       0    0.000000\n",
      "country                    0    0.000000\n",
      "date_added                 0    0.000000\n",
      "release_year               0    0.000000\n",
      "listed_in                  0    0.000000\n",
      "description                0    0.000000\n"
     ]
    }
   ],
   "source": [
    "# Verify after cleaning missing information\n",
    "check_null = pd.DataFrame(netflix.isnull().sum(), columns=['Count of Nulls'])                                                             \n",
    "check_null.index.name = 'Column'\n",
    "check_null.sort_values(['Count of Nulls'],ascending=False, inplace=True)\n",
    "check_null['Percentage']=(check_null['Count of Nulls']/len(netflix))*100\n",
    "print(check_null)\n"
   ]
  },
  {
   "cell_type": "markdown",
   "metadata": {},
   "source": [
    "Next only remove specific unwanted column."
   ]
  },
  {
   "cell_type": "code",
   "execution_count": 16,
   "metadata": {},
   "outputs": [],
   "source": [
    "# Remove column \"description\"\n",
    "netflix_clean_col = netflix.drop(columns= ['description'], inplace=True)\n"
   ]
  },
  {
   "cell_type": "code",
   "execution_count": 17,
   "metadata": {},
   "outputs": [
    {
     "data": {
      "text/html": [
       "<div>\n",
       "<style scoped>\n",
       "    .dataframe tbody tr th:only-of-type {\n",
       "        vertical-align: middle;\n",
       "    }\n",
       "\n",
       "    .dataframe tbody tr th {\n",
       "        vertical-align: top;\n",
       "    }\n",
       "\n",
       "    .dataframe thead th {\n",
       "        text-align: right;\n",
       "    }\n",
       "</style>\n",
       "<table border=\"1\" class=\"dataframe\">\n",
       "  <thead>\n",
       "    <tr style=\"text-align: right;\">\n",
       "      <th></th>\n",
       "      <th>show_id</th>\n",
       "      <th>type</th>\n",
       "      <th>title</th>\n",
       "      <th>director</th>\n",
       "      <th>cast</th>\n",
       "      <th>country</th>\n",
       "      <th>date_added</th>\n",
       "      <th>release_year</th>\n",
       "      <th>rating</th>\n",
       "      <th>duration</th>\n",
       "      <th>listed_in</th>\n",
       "    </tr>\n",
       "  </thead>\n",
       "  <tbody>\n",
       "    <tr>\n",
       "      <th>7</th>\n",
       "      <td>s8</td>\n",
       "      <td>Movie</td>\n",
       "      <td>Sankofa</td>\n",
       "      <td>Haile Gerima</td>\n",
       "      <td>Kofi Ghanaba, Oyafunmike Ogunlano, Alexandra D...</td>\n",
       "      <td>United States, Ghana, Burkina Faso, United Kin...</td>\n",
       "      <td>September 24, 2021</td>\n",
       "      <td>1993</td>\n",
       "      <td>TV-MA</td>\n",
       "      <td>125 min</td>\n",
       "      <td>Dramas, Independent Movies, International Movies</td>\n",
       "    </tr>\n",
       "    <tr>\n",
       "      <th>8</th>\n",
       "      <td>s9</td>\n",
       "      <td>TV Show</td>\n",
       "      <td>The Great British Baking Show</td>\n",
       "      <td>Andy Devonshire</td>\n",
       "      <td>Mel Giedroyc, Sue Perkins, Mary Berry, Paul Ho...</td>\n",
       "      <td>United Kingdom</td>\n",
       "      <td>September 24, 2021</td>\n",
       "      <td>2021</td>\n",
       "      <td>TV-14</td>\n",
       "      <td>9 Seasons</td>\n",
       "      <td>British TV Shows, Reality TV</td>\n",
       "    </tr>\n",
       "    <tr>\n",
       "      <th>9</th>\n",
       "      <td>s10</td>\n",
       "      <td>Movie</td>\n",
       "      <td>The Starling</td>\n",
       "      <td>Theodore Melfi</td>\n",
       "      <td>Melissa McCarthy, Chris O'Dowd, Kevin Kline, T...</td>\n",
       "      <td>United States</td>\n",
       "      <td>September 24, 2021</td>\n",
       "      <td>2021</td>\n",
       "      <td>PG-13</td>\n",
       "      <td>104 min</td>\n",
       "      <td>Comedies, Dramas</td>\n",
       "    </tr>\n",
       "    <tr>\n",
       "      <th>12</th>\n",
       "      <td>s13</td>\n",
       "      <td>Movie</td>\n",
       "      <td>Je Suis Karl</td>\n",
       "      <td>Christian Schwochow</td>\n",
       "      <td>Luna Wedler, Jannis Niewöhner, Milan Peschel, ...</td>\n",
       "      <td>Germany, Czech Republic</td>\n",
       "      <td>September 23, 2021</td>\n",
       "      <td>2021</td>\n",
       "      <td>TV-MA</td>\n",
       "      <td>127 min</td>\n",
       "      <td>Dramas, International Movies</td>\n",
       "    </tr>\n",
       "    <tr>\n",
       "      <th>24</th>\n",
       "      <td>s25</td>\n",
       "      <td>Movie</td>\n",
       "      <td>Jeans</td>\n",
       "      <td>S. Shankar</td>\n",
       "      <td>Prashanth, Aishwarya Rai Bachchan, Sri Lakshmi...</td>\n",
       "      <td>India</td>\n",
       "      <td>September 21, 2021</td>\n",
       "      <td>1998</td>\n",
       "      <td>TV-14</td>\n",
       "      <td>166 min</td>\n",
       "      <td>Comedies, International Movies, Romantic Movies</td>\n",
       "    </tr>\n",
       "    <tr>\n",
       "      <th>27</th>\n",
       "      <td>s28</td>\n",
       "      <td>Movie</td>\n",
       "      <td>Grown Ups</td>\n",
       "      <td>Dennis Dugan</td>\n",
       "      <td>Adam Sandler, Kevin James, Chris Rock, David S...</td>\n",
       "      <td>United States</td>\n",
       "      <td>September 20, 2021</td>\n",
       "      <td>2010</td>\n",
       "      <td>PG-13</td>\n",
       "      <td>103 min</td>\n",
       "      <td>Comedies</td>\n",
       "    </tr>\n",
       "    <tr>\n",
       "      <th>28</th>\n",
       "      <td>s29</td>\n",
       "      <td>Movie</td>\n",
       "      <td>Dark Skies</td>\n",
       "      <td>Scott Stewart</td>\n",
       "      <td>Keri Russell, Josh Hamilton, J.K. Simmons, Dak...</td>\n",
       "      <td>United States</td>\n",
       "      <td>September 19, 2021</td>\n",
       "      <td>2013</td>\n",
       "      <td>PG-13</td>\n",
       "      <td>97 min</td>\n",
       "      <td>Horror Movies, Sci-Fi &amp; Fantasy</td>\n",
       "    </tr>\n",
       "    <tr>\n",
       "      <th>29</th>\n",
       "      <td>s30</td>\n",
       "      <td>Movie</td>\n",
       "      <td>Paranoia</td>\n",
       "      <td>Robert Luketic</td>\n",
       "      <td>Liam Hemsworth, Gary Oldman, Amber Heard, Harr...</td>\n",
       "      <td>United States, India, France</td>\n",
       "      <td>September 19, 2021</td>\n",
       "      <td>2013</td>\n",
       "      <td>PG-13</td>\n",
       "      <td>106 min</td>\n",
       "      <td>Thrillers</td>\n",
       "    </tr>\n",
       "    <tr>\n",
       "      <th>38</th>\n",
       "      <td>s39</td>\n",
       "      <td>Movie</td>\n",
       "      <td>Birth of the Dragon</td>\n",
       "      <td>George Nolfi</td>\n",
       "      <td>Billy Magnussen, Ron Yuan, Qu Jingjing, Terry ...</td>\n",
       "      <td>China, Canada, United States</td>\n",
       "      <td>September 16, 2021</td>\n",
       "      <td>2017</td>\n",
       "      <td>PG-13</td>\n",
       "      <td>96 min</td>\n",
       "      <td>Action &amp; Adventure, Dramas</td>\n",
       "    </tr>\n",
       "    <tr>\n",
       "      <th>41</th>\n",
       "      <td>s42</td>\n",
       "      <td>Movie</td>\n",
       "      <td>Jaws</td>\n",
       "      <td>Steven Spielberg</td>\n",
       "      <td>Roy Scheider, Robert Shaw, Richard Dreyfuss, L...</td>\n",
       "      <td>United States</td>\n",
       "      <td>September 16, 2021</td>\n",
       "      <td>1975</td>\n",
       "      <td>PG</td>\n",
       "      <td>124 min</td>\n",
       "      <td>Action &amp; Adventure, Classic Movies, Dramas</td>\n",
       "    </tr>\n",
       "  </tbody>\n",
       "</table>\n",
       "</div>"
      ],
      "text/plain": [
       "   show_id     type                          title             director  \\\n",
       "7       s8    Movie                        Sankofa         Haile Gerima   \n",
       "8       s9  TV Show  The Great British Baking Show      Andy Devonshire   \n",
       "9      s10    Movie                   The Starling       Theodore Melfi   \n",
       "12     s13    Movie                   Je Suis Karl  Christian Schwochow   \n",
       "24     s25    Movie                          Jeans           S. Shankar   \n",
       "27     s28    Movie                      Grown Ups         Dennis Dugan   \n",
       "28     s29    Movie                     Dark Skies        Scott Stewart   \n",
       "29     s30    Movie                       Paranoia       Robert Luketic   \n",
       "38     s39    Movie            Birth of the Dragon         George Nolfi   \n",
       "41     s42    Movie                           Jaws     Steven Spielberg   \n",
       "\n",
       "                                                 cast  \\\n",
       "7   Kofi Ghanaba, Oyafunmike Ogunlano, Alexandra D...   \n",
       "8   Mel Giedroyc, Sue Perkins, Mary Berry, Paul Ho...   \n",
       "9   Melissa McCarthy, Chris O'Dowd, Kevin Kline, T...   \n",
       "12  Luna Wedler, Jannis Niewöhner, Milan Peschel, ...   \n",
       "24  Prashanth, Aishwarya Rai Bachchan, Sri Lakshmi...   \n",
       "27  Adam Sandler, Kevin James, Chris Rock, David S...   \n",
       "28  Keri Russell, Josh Hamilton, J.K. Simmons, Dak...   \n",
       "29  Liam Hemsworth, Gary Oldman, Amber Heard, Harr...   \n",
       "38  Billy Magnussen, Ron Yuan, Qu Jingjing, Terry ...   \n",
       "41  Roy Scheider, Robert Shaw, Richard Dreyfuss, L...   \n",
       "\n",
       "                                              country          date_added  \\\n",
       "7   United States, Ghana, Burkina Faso, United Kin...  September 24, 2021   \n",
       "8                                      United Kingdom  September 24, 2021   \n",
       "9                                       United States  September 24, 2021   \n",
       "12                            Germany, Czech Republic  September 23, 2021   \n",
       "24                                              India  September 21, 2021   \n",
       "27                                      United States  September 20, 2021   \n",
       "28                                      United States  September 19, 2021   \n",
       "29                       United States, India, France  September 19, 2021   \n",
       "38                       China, Canada, United States  September 16, 2021   \n",
       "41                                      United States  September 16, 2021   \n",
       "\n",
       "    release_year rating   duration  \\\n",
       "7           1993  TV-MA    125 min   \n",
       "8           2021  TV-14  9 Seasons   \n",
       "9           2021  PG-13    104 min   \n",
       "12          2021  TV-MA    127 min   \n",
       "24          1998  TV-14    166 min   \n",
       "27          2010  PG-13    103 min   \n",
       "28          2013  PG-13     97 min   \n",
       "29          2013  PG-13    106 min   \n",
       "38          2017  PG-13     96 min   \n",
       "41          1975     PG    124 min   \n",
       "\n",
       "                                           listed_in  \n",
       "7   Dramas, Independent Movies, International Movies  \n",
       "8                       British TV Shows, Reality TV  \n",
       "9                                   Comedies, Dramas  \n",
       "12                      Dramas, International Movies  \n",
       "24   Comedies, International Movies, Romantic Movies  \n",
       "27                                          Comedies  \n",
       "28                   Horror Movies, Sci-Fi & Fantasy  \n",
       "29                                         Thrillers  \n",
       "38                        Action & Adventure, Dramas  \n",
       "41        Action & Adventure, Classic Movies, Dramas  "
      ]
     },
     "execution_count": 17,
     "metadata": {},
     "output_type": "execute_result"
    }
   ],
   "source": [
    "# Show first 10\n",
    "netflix.head(10)"
   ]
  },
  {
   "cell_type": "markdown",
   "metadata": {},
   "source": [
    "Before starting creating function, the overall dataset has less numerical and more containing strings. Above top 5 information has rating mixed with type of tv-shows and movies. Lets start with column \"rating\" and \"type\" to find the unique."
   ]
  },
  {
   "cell_type": "code",
   "execution_count": 18,
   "metadata": {},
   "outputs": [
    {
     "data": {
      "text/plain": [
       "array(['TV-MA', 'TV-14', 'PG-13', 'PG', 'R', 'TV-PG', 'G', 'TV-Y7',\n",
       "       'TV-G', 'TV-Y', 'NC-17', '74 min', '84 min', '66 min', 'NR',\n",
       "       'TV-Y7-FV', 'UR', nan], dtype=object)"
      ]
     },
     "execution_count": 18,
     "metadata": {},
     "output_type": "execute_result"
    }
   ],
   "source": [
    "# Finding unique on column \"rating\"\n",
    "netflix['rating'].unique()"
   ]
  },
  {
   "cell_type": "code",
   "execution_count": 19,
   "metadata": {},
   "outputs": [
    {
     "data": {
      "text/plain": [
       "array(['Movie', 'TV Show'], dtype=object)"
      ]
     },
     "execution_count": 19,
     "metadata": {},
     "output_type": "execute_result"
    }
   ],
   "source": [
    "# Finding unique on column \"type\"\n",
    "netflix['type'].unique()"
   ]
  },
  {
   "cell_type": "markdown",
   "metadata": {},
   "source": [
    "Based from observation the rating is mixed with \"movie\" and \"tv-show\", let's filter each in same column."
   ]
  },
  {
   "cell_type": "code",
   "execution_count": 20,
   "metadata": {},
   "outputs": [
    {
     "data": {
      "text/plain": [
       "array(['TV-MA', 'PG-13', 'TV-14', 'PG', 'R', 'TV-PG', 'G', 'TV-Y7',\n",
       "       'TV-G', 'TV-Y', 'NC-17', '74 min', '84 min', '66 min', 'NR',\n",
       "       'TV-Y7-FV', 'UR', nan], dtype=object)"
      ]
     },
     "execution_count": 20,
     "metadata": {},
     "output_type": "execute_result"
    }
   ],
   "source": [
    "# filter \"TV Show\" from column \"type\" with column \"rating\"\n",
    "netflix[netflix['type']=='Movie']['rating'].unique()"
   ]
  },
  {
   "cell_type": "code",
   "execution_count": 21,
   "metadata": {},
   "outputs": [
    {
     "data": {
      "text/plain": [
       "array(['TV-14', 'TV-MA', 'TV-G', 'TV-PG', 'TV-Y', 'TV-Y7'], dtype=object)"
      ]
     },
     "execution_count": 21,
     "metadata": {},
     "output_type": "execute_result"
    }
   ],
   "source": [
    "# filter \"TV Show\" from column \"type\" with column \"rating\"\n",
    "netflix[netflix['type']=='TV Show']['rating'].unique()"
   ]
  },
  {
   "cell_type": "markdown",
   "metadata": {},
   "source": [
    "Next, we clean column \"rating\" for more simplify based on targeted user such kid, teen, young adult and adult. More information (global list) on this link ; https://en.wikipedia.org/wiki/Television_content_rating_system. "
   ]
  },
  {
   "cell_type": "code",
   "execution_count": 22,
   "metadata": {},
   "outputs": [],
   "source": [
    "# Clean column \"rating\" more simplify categorize based on user targeted\n",
    "rating_users = {\n",
    "    'PG-13' : 'Teen',\n",
    "    'PG' : 'Teen',\n",
    "    'TV-MA' : 'Adult',\n",
    "    'TV-PG' : 'Young Adult',\n",
    "    'TV-14' : 'Teen',\n",
    "    'TV-Y' : 'Kids',\n",
    "    'R' : 'Young Adult',\n",
    "    'TV-G' : 'Teen',\n",
    "    'TV-Y7' : 'Teen',\n",
    "    'G' : 'Kids',\n",
    "    'NC-17' : 'Adult',\n",
    "    'NR': 'Adult',\n",
    "    'TV-Y7-FV' : 'Adult',\n",
    "    'UR' : 'Adult',\n",
    "    '74 min' : 'Invalid_Rating',\n",
    "    '84 min' : 'Invalid_Rating',\n",
    "    '66 min' : 'Invalid_Rating'\n",
    "            \n",
    "}"
   ]
  },
  {
   "cell_type": "code",
   "execution_count": 23,
   "metadata": {},
   "outputs": [],
   "source": [
    "# Replace above value to column \"Rating\"\n",
    "netflix['rating_targeted'] = netflix['rating'].replace(rating_users)"
   ]
  },
  {
   "cell_type": "code",
   "execution_count": 24,
   "metadata": {},
   "outputs": [
    {
     "data": {
      "text/plain": [
       "array(['Adult', 'Teen', 'Young Adult', 'Kids', 'Invalid_Rating', nan],\n",
       "      dtype=object)"
      ]
     },
     "execution_count": 24,
     "metadata": {},
     "output_type": "execute_result"
    }
   ],
   "source": [
    "# Find unique on new renaming column \"rating_targeted\"\n",
    "netflix['rating_targeted'].unique()"
   ]
  },
  {
   "cell_type": "code",
   "execution_count": 25,
   "metadata": {},
   "outputs": [
    {
     "data": {
      "text/html": [
       "<div>\n",
       "<style scoped>\n",
       "    .dataframe tbody tr th:only-of-type {\n",
       "        vertical-align: middle;\n",
       "    }\n",
       "\n",
       "    .dataframe tbody tr th {\n",
       "        vertical-align: top;\n",
       "    }\n",
       "\n",
       "    .dataframe thead th {\n",
       "        text-align: right;\n",
       "    }\n",
       "</style>\n",
       "<table border=\"1\" class=\"dataframe\">\n",
       "  <thead>\n",
       "    <tr style=\"text-align: right;\">\n",
       "      <th></th>\n",
       "      <th>show_id</th>\n",
       "      <th>type</th>\n",
       "      <th>title</th>\n",
       "      <th>director</th>\n",
       "      <th>cast</th>\n",
       "      <th>country</th>\n",
       "      <th>date_added</th>\n",
       "      <th>release_year</th>\n",
       "      <th>rating</th>\n",
       "      <th>duration</th>\n",
       "      <th>listed_in</th>\n",
       "      <th>rating_targeted</th>\n",
       "    </tr>\n",
       "  </thead>\n",
       "  <tbody>\n",
       "    <tr>\n",
       "      <th>3670</th>\n",
       "      <td>s3671</td>\n",
       "      <td>Movie</td>\n",
       "      <td>Cities of Last Things</td>\n",
       "      <td>Wi Ding Ho</td>\n",
       "      <td>Jack Kao, Lee Hong-chi, Louise Grinberg, Huang...</td>\n",
       "      <td>Taiwan, China, France, United States</td>\n",
       "      <td>July 12, 2019</td>\n",
       "      <td>2018</td>\n",
       "      <td>TV-MA</td>\n",
       "      <td>106 min</td>\n",
       "      <td>Dramas, Independent Movies, International Movies</td>\n",
       "      <td>Adult</td>\n",
       "    </tr>\n",
       "    <tr>\n",
       "      <th>6502</th>\n",
       "      <td>s6503</td>\n",
       "      <td>Movie</td>\n",
       "      <td>Clouds of Sils Maria</td>\n",
       "      <td>Olivier Assayas</td>\n",
       "      <td>Juliette Binoche, Kristen Stewart, Chloë Grace...</td>\n",
       "      <td>France, Germany, Switzerland</td>\n",
       "      <td>February 12, 2017</td>\n",
       "      <td>2014</td>\n",
       "      <td>R</td>\n",
       "      <td>124 min</td>\n",
       "      <td>Dramas, International Movies</td>\n",
       "      <td>Young Adult</td>\n",
       "    </tr>\n",
       "    <tr>\n",
       "      <th>8188</th>\n",
       "      <td>s8189</td>\n",
       "      <td>Movie</td>\n",
       "      <td>The Amityville Horror</td>\n",
       "      <td>Andrew Douglas</td>\n",
       "      <td>Ryan Reynolds, Melissa George, Chloë Grace Mor...</td>\n",
       "      <td>United States</td>\n",
       "      <td>January 1, 2020</td>\n",
       "      <td>2005</td>\n",
       "      <td>R</td>\n",
       "      <td>89 min</td>\n",
       "      <td>Horror Movies</td>\n",
       "      <td>Young Adult</td>\n",
       "    </tr>\n",
       "    <tr>\n",
       "      <th>4850</th>\n",
       "      <td>s4851</td>\n",
       "      <td>Movie</td>\n",
       "      <td>Ibiza</td>\n",
       "      <td>Alex Richanbach</td>\n",
       "      <td>Gillian Jacobs, Vanessa Bayer, Phoebe Robinson...</td>\n",
       "      <td>United States</td>\n",
       "      <td>May 25, 2018</td>\n",
       "      <td>2018</td>\n",
       "      <td>TV-MA</td>\n",
       "      <td>94 min</td>\n",
       "      <td>Comedies, Romantic Movies</td>\n",
       "      <td>Adult</td>\n",
       "    </tr>\n",
       "    <tr>\n",
       "      <th>7174</th>\n",
       "      <td>s7175</td>\n",
       "      <td>Movie</td>\n",
       "      <td>Kay Dyache Bola</td>\n",
       "      <td>Chandrakant Kulkarni</td>\n",
       "      <td>Makarand Anaspure, Akshay Pendse, Umesh Kamat,...</td>\n",
       "      <td>India</td>\n",
       "      <td>January 1, 2018</td>\n",
       "      <td>2005</td>\n",
       "      <td>TV-14</td>\n",
       "      <td>133 min</td>\n",
       "      <td>Comedies, Dramas, International Movies</td>\n",
       "      <td>Teen</td>\n",
       "    </tr>\n",
       "  </tbody>\n",
       "</table>\n",
       "</div>"
      ],
      "text/plain": [
       "     show_id   type                  title              director  \\\n",
       "3670   s3671  Movie  Cities of Last Things            Wi Ding Ho   \n",
       "6502   s6503  Movie   Clouds of Sils Maria       Olivier Assayas   \n",
       "8188   s8189  Movie  The Amityville Horror        Andrew Douglas   \n",
       "4850   s4851  Movie                  Ibiza       Alex Richanbach   \n",
       "7174   s7175  Movie        Kay Dyache Bola  Chandrakant Kulkarni   \n",
       "\n",
       "                                                   cast  \\\n",
       "3670  Jack Kao, Lee Hong-chi, Louise Grinberg, Huang...   \n",
       "6502  Juliette Binoche, Kristen Stewart, Chloë Grace...   \n",
       "8188  Ryan Reynolds, Melissa George, Chloë Grace Mor...   \n",
       "4850  Gillian Jacobs, Vanessa Bayer, Phoebe Robinson...   \n",
       "7174  Makarand Anaspure, Akshay Pendse, Umesh Kamat,...   \n",
       "\n",
       "                                   country         date_added  release_year  \\\n",
       "3670  Taiwan, China, France, United States      July 12, 2019          2018   \n",
       "6502          France, Germany, Switzerland  February 12, 2017          2014   \n",
       "8188                         United States    January 1, 2020          2005   \n",
       "4850                         United States       May 25, 2018          2018   \n",
       "7174                                 India    January 1, 2018          2005   \n",
       "\n",
       "     rating duration                                         listed_in  \\\n",
       "3670  TV-MA  106 min  Dramas, Independent Movies, International Movies   \n",
       "6502      R  124 min                      Dramas, International Movies   \n",
       "8188      R   89 min                                     Horror Movies   \n",
       "4850  TV-MA   94 min                         Comedies, Romantic Movies   \n",
       "7174  TV-14  133 min            Comedies, Dramas, International Movies   \n",
       "\n",
       "     rating_targeted  \n",
       "3670           Adult  \n",
       "6502     Young Adult  \n",
       "8188     Young Adult  \n",
       "4850           Adult  \n",
       "7174            Teen  "
      ]
     },
     "execution_count": 25,
     "metadata": {},
     "output_type": "execute_result"
    }
   ],
   "source": [
    "# Inspect random sample from \"rating_targeted\"\n",
    "netflix.sample(5)"
   ]
  },
  {
   "cell_type": "markdown",
   "metadata": {},
   "source": [
    "Another column to be clean is column \"country\" and find if there is duplicated."
   ]
  },
  {
   "cell_type": "code",
   "execution_count": 26,
   "metadata": {},
   "outputs": [
    {
     "data": {
      "text/plain": [
       "604"
      ]
     },
     "execution_count": 26,
     "metadata": {},
     "output_type": "execute_result"
    }
   ],
   "source": [
    "# find the length unique of column \"country\"\n",
    "len(netflix['country'].unique())"
   ]
  },
  {
   "cell_type": "code",
   "execution_count": 27,
   "metadata": {},
   "outputs": [
    {
     "data": {
      "text/plain": [
       "7       False\n",
       "8       False\n",
       "9       False\n",
       "12      False\n",
       "24      False\n",
       "        ...  \n",
       "8801    False\n",
       "8802     True\n",
       "8804     True\n",
       "8805     True\n",
       "8806     True\n",
       "Length: 5336, dtype: bool"
      ]
     },
     "execution_count": 27,
     "metadata": {},
     "output_type": "execute_result"
    }
   ],
   "source": [
    "# find duplicated on column \"country\"\n",
    "check_dedup = netflix.duplicated(subset='country', keep='first')\n",
    "check_dedup"
   ]
  },
  {
   "cell_type": "code",
   "execution_count": 28,
   "metadata": {},
   "outputs": [
    {
     "data": {
      "text/plain": [
       "7       False\n",
       "8        True\n",
       "9        True\n",
       "12      False\n",
       "24       True\n",
       "        ...  \n",
       "8801    False\n",
       "8802     True\n",
       "8804     True\n",
       "8805     True\n",
       "8806     True\n",
       "Length: 5336, dtype: bool"
      ]
     },
     "execution_count": 28,
     "metadata": {},
     "output_type": "execute_result"
    }
   ],
   "source": [
    "clean_dedup = netflix.duplicated(subset=['country'], keep=False)\n",
    "clean_dedup"
   ]
  },
  {
   "cell_type": "markdown",
   "metadata": {},
   "source": [
    "# Get clean data from this jupyter book 📂"
   ]
  },
  {
   "cell_type": "code",
   "execution_count": 29,
   "metadata": {},
   "outputs": [],
   "source": [
    "# Export data as a CSV file\n",
    "netflix.to_csv('clean_netflix_df.csv')"
   ]
  },
  {
   "cell_type": "markdown",
   "metadata": {},
   "source": [
    "# Case Study #1 🤔"
   ]
  },
  {
   "cell_type": "markdown",
   "metadata": {},
   "source": [
    "Question : Analyse top countries by rating for movie and TV show ❓"
   ]
  },
  {
   "cell_type": "code",
   "execution_count": 30,
   "metadata": {},
   "outputs": [
    {
     "data": {
      "text/plain": [
       "count     5335\n",
       "unique       5\n",
       "top       Teen\n",
       "freq      2119\n",
       "Name: rating_targeted, dtype: object"
      ]
     },
     "execution_count": 30,
     "metadata": {},
     "output_type": "execute_result"
    }
   ],
   "source": [
    "# find frequency of new column created as \"rating_targeted\"\n",
    "netflix['rating_targeted'].describe()"
   ]
  },
  {
   "cell_type": "code",
   "execution_count": 31,
   "metadata": {},
   "outputs": [
    {
     "data": {
      "text/plain": [
       "Text(0.5, 1.0, 'No. of Movies and TV shows vs Rating Targeted in Netflix')"
      ]
     },
     "execution_count": 31,
     "metadata": {},
     "output_type": "execute_result"
    },
    {
     "data": {
      "image/png": "[encoded data removed]",
      "text/plain": [
       "<Figure size 432x288 with 1 Axes>"
      ]
     },
     "metadata": {
      "needs_background": "light"
     },
     "output_type": "display_data"
    }
   ],
   "source": [
    "# Find occurrence in column rating_targeted and plot as histrogram \n",
    "netflix['rating_targeted'].value_counts(dropna=True).head().plot(kind='bar')\n",
    "plt.xlabel('rating_targeted')\n",
    "plt.ylabel('Counts')\n",
    "plt.title('No. of Movies and TV shows vs Rating Targeted in Netflix')"
   ]
  },
  {
   "cell_type": "markdown",
   "metadata": {},
   "source": [
    "# Case Study #2 🤔"
   ]
  },
  {
   "cell_type": "markdown",
   "metadata": {},
   "source": [
    "Question : Analyse top cast acting for movie and TV show in Netflix ❓"
   ]
  },
  {
   "cell_type": "code",
   "execution_count": 32,
   "metadata": {},
   "outputs": [
    {
     "data": {
      "text/plain": [
       "count            5336\n",
       "unique           5202\n",
       "top       Samuel West\n",
       "freq               10\n",
       "Name: cast, dtype: object"
      ]
     },
     "execution_count": 32,
     "metadata": {},
     "output_type": "execute_result"
    }
   ],
   "source": [
    "# find frequency of column \"cast\"\n",
    "netflix['cast'].describe()"
   ]
  },
  {
   "cell_type": "code",
   "execution_count": 33,
   "metadata": {},
   "outputs": [
    {
     "data": {
      "text/plain": [
       "Text(0.5, 1.0, 'Top 5 Cast Acting in Netflix on Movies and TV Shows')"
      ]
     },
     "execution_count": 33,
     "metadata": {},
     "output_type": "execute_result"
    },
    {
     "data": {
      "image/png": "[encoded data removed]",
      "text/plain": [
       "<Figure size 432x288 with 1 Axes>"
      ]
     },
     "metadata": {
      "needs_background": "light"
     },
     "output_type": "display_data"
    }
   ],
   "source": [
    "# Find occurrence in column cast and plot as histrogram \n",
    "netflix['cast'].value_counts().head().plot(kind='barh')\n",
    "plt.xlabel('cast')\n",
    "plt.ylabel('Counts')\n",
    "plt.title('Top 5 Cast Acting in Netflix on Movies and TV Shows')\n",
    "\n"
   ]
  },
  {
   "cell_type": "markdown",
   "metadata": {},
   "source": [
    "# Case Study #3 🤔"
   ]
  },
  {
   "cell_type": "markdown",
   "metadata": {},
   "source": [
    "Question : Analyse which countries producing \"horror\" 👻 contents movie/tv-show on Netflix ❓"
   ]
  },
  {
   "cell_type": "code",
   "execution_count": 34,
   "metadata": {},
   "outputs": [
    {
     "data": {
      "text/plain": [
       "Text(0.5, 1.0, 'Top 5 Countries producing \"Horror\" contents Movie/TV Shows')"
      ]
     },
     "execution_count": 34,
     "metadata": {},
     "output_type": "execute_result"
    },
    {
     "data": {
      "image/png": "[encoded data removed]",
      "text/plain": [
       "<Figure size 432x288 with 1 Axes>"
      ]
     },
     "metadata": {
      "needs_background": "light"
     },
     "output_type": "display_data"
    }
   ],
   "source": [
    "# creating filter using str contains and plot as histogram\n",
    "filtered_horror = netflix[netflix['listed_in'].str.contains('Horror')]\n",
    "netflix['country'].value_counts().head().plot(kind='barh')\n",
    "plt.xlabel('country')\n",
    "plt.ylabel('Counts')\n",
    "plt.title('Top 5 Countries producing \"Horror\" contents Movie/TV Shows')\n"
   ]
  },
  {
   "cell_type": "markdown",
   "metadata": {},
   "source": [
    "# You want hear something 👀 ?"
   ]
  },
  {
   "cell_type": "code",
   "execution_count": 35,
   "metadata": {},
   "outputs": [
    {
     "name": "stdout",
     "output_type": "stream",
     "text": [
      "Requirement already satisfied: playsound==1.2.2 in c:\\programdata\\anaconda3\\lib\\site-packages (1.2.2)\n"
     ]
    }
   ],
   "source": [
    "# Install playsound module\n",
    "!pip install playsound==1.2.2"
   ]
  },
  {
   "cell_type": "code",
   "execution_count": 36,
   "metadata": {},
   "outputs": [],
   "source": [
    "# importing playsound module\n",
    "from playsound import playsound"
   ]
  },
  {
   "cell_type": "code",
   "execution_count": 37,
   "metadata": {},
   "outputs": [
    {
     "name": "stdout",
     "output_type": "stream",
     "text": [
      "What is your name? John Doe\n",
      "Do You Want To Hear Something? [y/n]: y\n",
      "John Doe , Sound Familiar Right?\n"
     ]
    }
   ],
   "source": [
    "# Creating simple function with module playsound\n",
    "def letsplay():\n",
    "\n",
    "    # \n",
    "    while True:\n",
    "        yourname = input(\"What is your name? \")\n",
    "\n",
    "        try:\n",
    "            trythis = input(\"Do You Want To Hear Something? [y/n]: \") == \"y\"\n",
    "\n",
    "        # error exception.\n",
    "        except Error:\n",
    "            # exception cycle will go around until validated\n",
    "            print(\"Error! Try again.\")\n",
    "\n",
    "        # When successfully it will play the thing\n",
    "        else:\n",
    "            playsound('./playthis.mp3')\n",
    "            print(yourname, \", Sound Familiar Right?\" )\n",
    "            # song\n",
    "            break\n",
    "\n",
    "# The function is called\n",
    "letsplay()"
   ]
  },
  {
   "attachments": {},
   "cell_type": "markdown",
   "metadata": {},
   "source": [
    "# Conclusion"
   ]
  },
  {
   "attachments": {},
   "cell_type": "markdown",
   "metadata": {},
   "source": [
    "This study show Netflix 📽️ data able to capture on specific case studies and emphasize python programming in better manner. It can be given by different interpretation and analysis for the audience understand each segment. Although the data captured has less numericals and it able sorting by proper modules or methods can be done. By doing to clean the data, it able to interpret best method to ensure every analysis not mixed with unwanted information.\n",
    "\n",
    "Thank you! "
   ]
  }
 ],
 "metadata": {
  "kernelspec": {
   "display_name": "Python 3",
   "language": "python",
   "name": "python3"
  },
  "language_info": {
   "codemirror_mode": {
    "name": "ipython",
    "version": 3
   },
   "file_extension": ".py",
   "mimetype": "text/x-python",
   "name": "python",
   "nbconvert_exporter": "python",
   "pygments_lexer": "ipython3",
   "version": "3.8.8"
  },
  "vscode": {
   "interpreter": {
    "hash": "916dbcbb3f70747c44a77c7bcd40155683ae19c65e1c03b4aa3499c5328201f1"
   }
  }
 },
 "nbformat": 4,
 "nbformat_minor": 2
}
