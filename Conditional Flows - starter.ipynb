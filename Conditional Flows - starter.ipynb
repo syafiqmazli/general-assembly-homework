{
 "cells": [
  {
   "cell_type": "markdown",
   "id": "570984f5",
   "metadata": {},
   "source": [
    "# Exercise 2\n",
    "\n",
    "\n",
    "####  Check if x and b are both True. If they are, print \"Both of these are true.\"\n",
    "####  Check if y or a is False. If one is, print \"One of these is false.\"\n",
    "####  Check if either x or y is False. If one is, print out \"One is false.\"\n",
    "####  Then, only if either x or y is False, check if x is greater than y. If it is, print out \"x is greater than y.\""
   ]
  },
  {
   "cell_type": "code",
   "execution_count": 1,
   "id": "b4f6ac4a",
   "metadata": {},
   "outputs": [],
   "source": [
    "x = 8\n",
    "y = 0\n",
    "a = \"Hello!\"\n",
    "b = \"\""
   ]
  },
  {
   "cell_type": "code",
   "execution_count": 20,
   "id": "715f4c07",
   "metadata": {},
   "outputs": [],
   "source": [
    "# Check if x and b are both True. If they are, print \"Both of these are true.\"\n",
    "if x and b == True:\n",
    "    print (\"Both of these are true.\")"
   ]
  },
  {
   "cell_type": "code",
   "execution_count": 21,
   "id": "fe874797",
   "metadata": {},
   "outputs": [
    {
     "name": "stdout",
     "output_type": "stream",
     "text": [
      "One of these if false.\n"
     ]
    }
   ],
   "source": [
    "# Check if y or a is False. If one is, print \"One of these is false.\"\n",
    "if y or a != False:\n",
    "    print (\"One of these if false.\")"
   ]
  },
  {
   "cell_type": "code",
   "execution_count": 22,
   "id": "7a071265",
   "metadata": {},
   "outputs": [
    {
     "name": "stdout",
     "output_type": "stream",
     "text": [
      "One is false.\n"
     ]
    }
   ],
   "source": [
    "# Check if either x or y is False. If one is, print out \"One is false.\"\n",
    "if x or y != False:\n",
    "    print (\"One is false.\")"
   ]
  },
  {
   "cell_type": "code",
   "execution_count": 26,
   "id": "c466ec98",
   "metadata": {},
   "outputs": [
    {
     "name": "stdout",
     "output_type": "stream",
     "text": [
      "x is greater than y.\n"
     ]
    }
   ],
   "source": [
    "# Then, only if either x or y is False, check if x is greater than y. If it is, print out \"x is greater than y.\"\n",
    "if x >= y:\n",
    "    print (\"x is greater than y.\")"
   ]
  }
 ],
 "metadata": {
  "kernelspec": {
   "display_name": "Python 3.6.9 ('.venv': venv)",
   "language": "python",
   "name": "python3"
  },
  "language_info": {
   "codemirror_mode": {
    "name": "ipython",
    "version": 3
   },
   "file_extension": ".py",
   "mimetype": "text/x-python",
   "name": "python",
   "nbconvert_exporter": "python",
   "pygments_lexer": "ipython3",
   "version": "3.6.9"
  },
  "vscode": {
   "interpreter": {
    "hash": "582ec74c0ce85bcbdc560e49008601d3d7da3f1485dc7f5323d4d85124bc3f80"
   }
  }
 },
 "nbformat": 4,
 "nbformat_minor": 5
}
